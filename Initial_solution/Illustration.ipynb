{
 "metadata": {
  "language_info": {
   "codemirror_mode": {
    "name": "ipython",
    "version": 3
   },
   "file_extension": ".py",
   "mimetype": "text/x-python",
   "name": "python",
   "nbconvert_exporter": "python",
   "pygments_lexer": "ipython3",
   "version": "3.7.4-final"
  },
  "orig_nbformat": 2,
  "kernelspec": {
   "name": "python3",
   "display_name": "Python 3"
  }
 },
 "nbformat": 4,
 "nbformat_minor": 2,
 "cells": [
  {
   "cell_type": "code",
   "execution_count": 1,
   "metadata": {},
   "outputs": [],
   "source": [
    "# Importing the Greedy function and other dependencies\n",
    "import Constructive_Heuristic\n",
    "import pandas as pd\n",
    "import numpy as np\n",
    "from itertools import combinations\n",
    "from toolz import valmap"
   ]
  },
  {
   "source": [
    "## Toy dataset of monthly prices of three stocks "
   ],
   "cell_type": "markdown",
   "metadata": {}
  },
  {
   "cell_type": "code",
   "execution_count": 2,
   "metadata": {},
   "outputs": [
    {
     "output_type": "stream",
     "name": "stdout",
     "text": [
      "                  IBM     WMT   SEHI\nNovember-00    93.043  51.826  1.063\nDecember-00    84.585  52.823  0.938\nJanuary-01    111.453  56.477  1.000\nFebruary-01    99.525  49.805  0.938\nMarch-01       95.819  50.287  1.438\nApril-01      114.708  51.521  1.700\nMay-01        111.515  51.531  2.540\nJune-01       113.211  48.664  2.390\nJuly-01       104.942  55.744  3.120\nAugust-01      99.827  47.916  2.980\nSeptember-01   91.607  49.438  1.900\nOctober-01    107.937  51.336  1.750\nNovember-01   115.590  55.081  1.800\n"
     ]
    }
   ],
   "source": [
    "monthly_price = pd.read_csv(\"Toy_dataset.txt\",sep = \" \",header=None, names = [\"IBM\",\"WMT\",\"SEHI\"], index_col=0)\n",
    "\n",
    "print(monthly_price)"
   ]
  },
  {
   "source": [
    "## Run the greedy algorithm for the monthly_price data"
   ],
   "cell_type": "markdown",
   "metadata": {}
  },
  {
   "cell_type": "code",
   "execution_count": 3,
   "metadata": {},
   "outputs": [],
   "source": [
    "np.random.seed(42)\n",
    "\n",
    "test = Constructive_Heuristic.GREEDY(price_df = monthly_price, Lambda = 1, Capital = 1000, k=3, epsilon = 0.2, delta = 0.9, T= 10000)\n"
   ]
  },
  {
   "source": [
    "### The monthly return for each stock"
   ],
   "cell_type": "markdown",
   "metadata": {}
  },
  {
   "cell_type": "code",
   "execution_count": 4,
   "metadata": {},
   "outputs": [
    {
     "output_type": "stream",
     "name": "stdout",
     "text": [
      "                   IBM       WMT      SEHI\nDecember-00  -0.090904  0.019237 -0.117592\nJanuary-01    0.317645  0.069174  0.066098\nFebruary-01  -0.107023 -0.118137 -0.062000\nMarch-01     -0.037237  0.009678  0.533049\nApril-01      0.197132  0.024539  0.182197\nMay-01       -0.027836  0.000194  0.494118\nJune-01       0.015209 -0.055636 -0.059055\nJuly-01      -0.073041  0.145487  0.305439\nAugust-01    -0.048741 -0.140428 -0.044872\nSeptember-01 -0.082342  0.031764 -0.362416\nOctober-01    0.178261  0.038392 -0.078947\nNovember-01   0.070902  0.072951  0.028571\n"
     ]
    }
   ],
   "source": [
    "print(test.return_df)"
   ]
  },
  {
   "source": [
    "### The average return of each stock based on the historical data"
   ],
   "cell_type": "markdown",
   "metadata": {}
  },
  {
   "cell_type": "code",
   "execution_count": 5,
   "metadata": {},
   "outputs": [
    {
     "output_type": "execute_result",
     "data": {
      "text/plain": [
       "[0.02600215027777736, 0.00810131640567146, 0.07371590949198982]"
      ]
     },
     "metadata": {},
     "execution_count": 5
    }
   ],
   "source": [
    "test.avg_return"
   ]
  },
  {
   "source": [
    "### The co_variance matrix"
   ],
   "cell_type": "markdown",
   "metadata": {}
  },
  {
   "cell_type": "code",
   "execution_count": 6,
   "metadata": {},
   "outputs": [
    {
     "output_type": "execute_result",
     "data": {
      "text/plain": [
       "           IBM       WMT      SEHI\n",
       "IBM   0.018641  0.003599  0.001310\n",
       "WMT   0.003599  0.006437  0.004887\n",
       "SEHI  0.001310  0.004887  0.068683"
      ],
      "text/html": "<div>\n<style scoped>\n    .dataframe tbody tr th:only-of-type {\n        vertical-align: middle;\n    }\n\n    .dataframe tbody tr th {\n        vertical-align: top;\n    }\n\n    .dataframe thead th {\n        text-align: right;\n    }\n</style>\n<table border=\"1\" class=\"dataframe\">\n  <thead>\n    <tr style=\"text-align: right;\">\n      <th></th>\n      <th>IBM</th>\n      <th>WMT</th>\n      <th>SEHI</th>\n    </tr>\n  </thead>\n  <tbody>\n    <tr>\n      <td>IBM</td>\n      <td>0.018641</td>\n      <td>0.003599</td>\n      <td>0.001310</td>\n    </tr>\n    <tr>\n      <td>WMT</td>\n      <td>0.003599</td>\n      <td>0.006437</td>\n      <td>0.004887</td>\n    </tr>\n    <tr>\n      <td>SEHI</td>\n      <td>0.001310</td>\n      <td>0.004887</td>\n      <td>0.068683</td>\n    </tr>\n  </tbody>\n</table>\n</div>"
     },
     "metadata": {},
     "execution_count": 6
    }
   ],
   "source": [
    "test.co_variance"
   ]
  },
  {
   "source": [
    "### The Standard Deviation"
   ],
   "cell_type": "markdown",
   "metadata": {}
  },
  {
   "cell_type": "code",
   "execution_count": 7,
   "metadata": {},
   "outputs": [
    {
     "output_type": "execute_result",
     "data": {
      "text/plain": [
       "[0.13653219394667032, 0.08023053235942101, 0.26207396943384964]"
      ]
     },
     "metadata": {},
     "execution_count": 7
    }
   ],
   "source": [
    "test.stdev"
   ]
  },
  {
   "source": [
    "### Sharpe Ration of each stock"
   ],
   "cell_type": "markdown",
   "metadata": {}
  },
  {
   "cell_type": "code",
   "execution_count": 8,
   "metadata": {},
   "outputs": [
    {
     "output_type": "execute_result",
     "data": {
      "text/plain": [
       "[['SEHI', 0.281279020771258],\n",
       " ['IBM', 0.19044702590755874],\n",
       " ['WMT', 0.10097547862924244]]"
      ]
     },
     "metadata": {},
     "execution_count": 8
    }
   ],
   "source": [
    "test.sharpe_ratio"
   ]
  },
  {
   "source": [
    "### Solution found"
   ],
   "cell_type": "markdown",
   "metadata": {}
  },
  {
   "cell_type": "code",
   "execution_count": 9,
   "metadata": {},
   "outputs": [
    {
     "output_type": "execute_result",
     "data": {
      "text/plain": [
       "{'SEHI': 0.4541519255598409,\n",
       " 'IBM': 0.442240344477408,\n",
       " 'WMT': 0.10360772996275108}"
      ]
     },
     "metadata": {},
     "execution_count": 9
    }
   ],
   "source": [
    "test.solution"
   ]
  }
 ]
}