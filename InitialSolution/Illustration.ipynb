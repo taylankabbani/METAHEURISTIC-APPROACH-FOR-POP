{
 "metadata": {
  "language_info": {
   "codemirror_mode": {
    "name": "ipython",
    "version": 3
   },
   "file_extension": ".py",
   "mimetype": "text/x-python",
   "name": "python",
   "nbconvert_exporter": "python",
   "pygments_lexer": "ipython3",
   "version": "3.7.4-final"
  },
  "orig_nbformat": 2,
  "kernelspec": {
   "name": "python3",
   "display_name": "Python 3",
   "language": "python"
  }
 },
 "nbformat": 4,
 "nbformat_minor": 2,
 "cells": [
  {
   "cell_type": "code",
   "execution_count": null,
   "metadata": {},
   "outputs": [],
   "source": [
    "{3: 0.52, 1: 0.4732959156742484, 2: 0.10849192156783459}"
   ]
  },
  {
   "cell_type": "code",
   "execution_count": 1,
   "metadata": {},
   "outputs": [],
   "source": [
    "# Importing the Greedy function and other dependencies\n",
    "# import Constructive_Heuristic\n",
    "import ConstructiveALGO\n",
    "import pandas as pd\n",
    "import numpy as np\n",
    "from itertools import combinations\n",
    "from toolz import valmap"
   ]
  },
  {
   "source": [
    "## Toy dataset of monthly prices of three stocks "
   ],
   "cell_type": "markdown",
   "metadata": {}
  },
  {
   "cell_type": "code",
   "execution_count": 3,
   "metadata": {},
   "outputs": [
    {
     "output_type": "stream",
     "name": "stdout",
     "text": [
      "                  IBM     WMT   SEHI\nNovember-00    93.043  51.826  1.063\nDecember-00    84.585  52.823  0.938\nJanuary-01    111.453  56.477  1.000\nFebruary-01    99.525  49.805  0.938\nMarch-01       95.819  50.287  1.438\nApril-01      114.708  51.521  1.700\nMay-01        111.515  51.531  2.540\nJune-01       113.211  48.664  2.390\nJuly-01       104.942  55.744  3.120\nAugust-01      99.827  47.916  2.980\nSeptember-01   91.607  49.438  1.900\nOctober-01    107.937  51.336  1.750\nNovember-01   115.590  55.081  1.800\n"
     ]
    }
   ],
   "source": [
    "monthly_price = pd.read_csv(\"Toy_dataset/Toy_dataset.txt\",sep = \" \",header=None, names = [\"IBM\",\"WMT\",\"SEHI\"], index_col=0)\n",
    "\n",
    "print(monthly_price)"
   ]
  },
  {
   "source": [
    "### The monthly return for each stock"
   ],
   "cell_type": "markdown",
   "metadata": {}
  },
  {
   "cell_type": "code",
   "execution_count": 4,
   "metadata": {},
   "outputs": [
    {
     "output_type": "stream",
     "name": "stdout",
     "text": [
      "                   IBM       WMT      SEHI\nDecember-00  -0.090904  0.019237 -0.117592\nJanuary-01    0.317645  0.069174  0.066098\nFebruary-01  -0.107023 -0.118137 -0.062000\nMarch-01     -0.037237  0.009678  0.533049\nApril-01      0.197132  0.024539  0.182197\nMay-01       -0.027836  0.000194  0.494118\nJune-01       0.015209 -0.055636 -0.059055\nJuly-01      -0.073041  0.145487  0.305439\nAugust-01    -0.048741 -0.140428 -0.044872\nSeptember-01 -0.082342  0.031764 -0.362416\nOctober-01    0.178261  0.038392 -0.078947\nNovember-01   0.070902  0.072951  0.028571\n"
     ]
    }
   ],
   "source": [
    "def get_return(df):\n",
    "    return df.rolling(2).apply(lambda x: (x[1]-x[0])/x[0],raw=False).dropna()\n",
    "    \n",
    "return_df = get_return(monthly_price)\n",
    "print(return_df)"
   ]
  },
  {
   "source": [
    "### The average return of each stock based on the historical data"
   ],
   "cell_type": "markdown",
   "metadata": {}
  },
  {
   "cell_type": "code",
   "execution_count": 5,
   "metadata": {},
   "outputs": [
    {
     "output_type": "stream",
     "name": "stdout",
     "text": [
      "[0.02600215027777736, 0.00810131640567146, 0.07371590949198982]\n"
     ]
    }
   ],
   "source": [
    "avg_return = list(return_df.mean())\n",
    "print(avg_return)"
   ]
  },
  {
   "source": [
    "### The correlation matrix"
   ],
   "cell_type": "markdown",
   "metadata": {}
  },
  {
   "cell_type": "code",
   "execution_count": 6,
   "metadata": {},
   "outputs": [
    {
     "output_type": "stream",
     "name": "stdout",
     "text": [
      "           IBM       WMT      SEHI\nIBM   1.000000  0.328512  0.036604\nWMT   0.328512  1.000000  0.232435\nSEHI  0.036604  0.232435  1.000000\n"
     ]
    }
   ],
   "source": [
    "co_variance = pd.DataFrame.corr(return_df)\n",
    "print(co_variance)"
   ]
  },
  {
   "source": [
    "### The Standard Deviation"
   ],
   "cell_type": "markdown",
   "metadata": {}
  },
  {
   "cell_type": "code",
   "execution_count": 7,
   "metadata": {},
   "outputs": [
    {
     "output_type": "stream",
     "name": "stdout",
     "text": [
      "[0.13653219394667032, 0.08023053235942101, 0.26207396943384964]\n"
     ]
    }
   ],
   "source": [
    "stdev = list(return_df.std())\n",
    "print(stdev)"
   ]
  },
  {
   "source": [
    "## Solution by the Greedy algorithm"
   ],
   "cell_type": "markdown",
   "metadata": {}
  },
  {
   "cell_type": "code",
   "execution_count": 81,
   "metadata": {
    "tags": []
   },
   "outputs": [
    {
     "output_type": "stream",
     "name": "stdout",
     "text": [
      "{3: 0.4661784868647406, 1: 0.42532959156742484, 2: 0.10849192156783459} -0.013291495380409078\n"
     ]
    }
   ],
   "source": [
    "# Setting Lambda to 0.5 to balance between the return and risk ivolved \n",
    "test = ConstructiveALGO.GREEDY(ReturnSD_path= \"Toy_dataset/Return&SD.txt\", corr_path=\"Toy_dataset/correlation.txt\", Lambda=0.5, Capital= 1000, k= 3, epsilon=0.2, delta=0.9, T=10000, show=False)\n",
    "print(test.initial_solution,test.initial_objvalue)"
   ]
  },
  {
   "source": [
    "## Solution found using exact method, the General Algebraic Modeling System (GAMS) : {3: 0.52 , 1: 0.479, 2: 0.0}"
   ],
   "cell_type": "markdown",
   "metadata": {}
  }
 ]
}